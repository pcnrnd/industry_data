{
 "cells": [
  {
   "cell_type": "code",
   "execution_count": 5,
   "metadata": {},
   "outputs": [],
   "source": [
    "!pip install dask"
   ]
  },
  {
   "cell_type": "code",
   "execution_count": 6,
   "metadata": {},
   "outputs": [
    {
     "ename": "ModuleNotFoundError",
     "evalue": "No module named 'dask'",
     "output_type": "error",
     "traceback": [
      "\u001b[1;31m---------------------------------------------------------------------------\u001b[0m",
      "\u001b[1;31mModuleNotFoundError\u001b[0m                       Traceback (most recent call last)",
      "Cell \u001b[1;32mIn[6], line 13\u001b[0m\n\u001b[0;32m     10\u001b[0m \u001b[38;5;28;01mimport\u001b[39;00m \u001b[38;5;21;01mpandas\u001b[39;00m \u001b[38;5;28;01mas\u001b[39;00m \u001b[38;5;21;01mpd\u001b[39;00m\n\u001b[0;32m     11\u001b[0m \u001b[38;5;28;01mfrom\u001b[39;00m \u001b[38;5;21;01mpathlib\u001b[39;00m \u001b[38;5;28;01mimport\u001b[39;00m Path\n\u001b[1;32m---> 13\u001b[0m \u001b[38;5;28;01mfrom\u001b[39;00m \u001b[38;5;21;01mdask\u001b[39;00m\u001b[38;5;21;01m.\u001b[39;00m\u001b[38;5;21;01mdelayed\u001b[39;00m \u001b[38;5;28;01mimport\u001b[39;00m delayed\n\u001b[0;32m     14\u001b[0m \u001b[38;5;28;01mimport\u001b[39;00m \u001b[38;5;21;01mdask\u001b[39;00m\u001b[38;5;21;01m.\u001b[39;00m\u001b[38;5;21;01mbag\u001b[39;00m \u001b[38;5;28;01mas\u001b[39;00m \u001b[38;5;21;01mdb\u001b[39;00m\n\u001b[0;32m     15\u001b[0m \u001b[38;5;28;01mfrom\u001b[39;00m \u001b[38;5;21;01mdask\u001b[39;00m\u001b[38;5;21;01m.\u001b[39;00m\u001b[38;5;21;01mdistributed\u001b[39;00m \u001b[38;5;28;01mimport\u001b[39;00m Client, LocalCluster\n",
      "\u001b[1;31mModuleNotFoundError\u001b[0m: No module named 'dask'"
     ]
    }
   ],
   "source": [
    "# conda install -c cyclus java-jdk\n",
    "'''\n",
    "pip install pip-tools\n",
    "pip-compile --generate-hashes\n",
    "pip-sync\n",
    "'''\n",
    "import os, io\n",
    "import shutil\n",
    "import zipfile\n",
    "import pandas as pd\n",
    "from pathlib import Path\n",
    "\n",
    "from dask.delayed import delayed\n",
    "import dask.bag as db\n",
    "from dask.distributed import Client, LocalCluster\n",
    "\n",
    "import pandas as pd\n",
    "from lib.prepro import Preprocessing"
   ]
  },
  {
   "cell_type": "code",
   "execution_count": null,
   "metadata": {},
   "outputs": [],
   "source": [
    "prepro = Preprocessing()"
   ]
  },
  {
   "cell_type": "code",
   "execution_count": null,
   "metadata": {},
   "outputs": [
    {
     "data": {
      "text/html": [
       "<div>\n",
       "    <div style=\"width: 24px; height: 24px; background-color: #e1e1e1; border: 3px solid #9D9D9D; border-radius: 5px; position: absolute;\"> </div>\n",
       "    <div style=\"margin-left: 48px;\">\n",
       "        <h3 style=\"margin-bottom: 0px;\">Client</h3>\n",
       "        <p style=\"color: #9D9D9D; margin-bottom: 0px;\">Client-0c1d6af8-586f-11ef-96ad-0242ac120007</p>\n",
       "        <table style=\"width: 100%; text-align: left;\">\n",
       "\n",
       "        <tr>\n",
       "        \n",
       "            <td style=\"text-align: left;\"><strong>Connection method:</strong> Cluster object</td>\n",
       "            <td style=\"text-align: left;\"><strong>Cluster type:</strong> distributed.LocalCluster</td>\n",
       "        \n",
       "        </tr>\n",
       "\n",
       "        \n",
       "            <tr>\n",
       "                <td style=\"text-align: left;\">\n",
       "                    <strong>Dashboard: </strong> <a href=\"http://127.0.0.1:8787/status\" target=\"_blank\">http://127.0.0.1:8787/status</a>\n",
       "                </td>\n",
       "                <td style=\"text-align: left;\"></td>\n",
       "            </tr>\n",
       "        \n",
       "\n",
       "        </table>\n",
       "\n",
       "        \n",
       "\n",
       "        \n",
       "            <details>\n",
       "            <summary style=\"margin-bottom: 20px;\"><h3 style=\"display: inline;\">Cluster Info</h3></summary>\n",
       "            <div class=\"jp-RenderedHTMLCommon jp-RenderedHTML jp-mod-trusted jp-OutputArea-output\">\n",
       "    <div style=\"width: 24px; height: 24px; background-color: #e1e1e1; border: 3px solid #9D9D9D; border-radius: 5px; position: absolute;\">\n",
       "    </div>\n",
       "    <div style=\"margin-left: 48px;\">\n",
       "        <h3 style=\"margin-bottom: 0px; margin-top: 0px;\">LocalCluster</h3>\n",
       "        <p style=\"color: #9D9D9D; margin-bottom: 0px;\">c2eaf102</p>\n",
       "        <table style=\"width: 100%; text-align: left;\">\n",
       "            <tr>\n",
       "                <td style=\"text-align: left;\">\n",
       "                    <strong>Dashboard:</strong> <a href=\"http://127.0.0.1:8787/status\" target=\"_blank\">http://127.0.0.1:8787/status</a>\n",
       "                </td>\n",
       "                <td style=\"text-align: left;\">\n",
       "                    <strong>Workers:</strong> 2\n",
       "                </td>\n",
       "            </tr>\n",
       "            <tr>\n",
       "                <td style=\"text-align: left;\">\n",
       "                    <strong>Total threads:</strong> 2\n",
       "                </td>\n",
       "                <td style=\"text-align: left;\">\n",
       "                    <strong>Total memory:</strong> 3.83 GiB\n",
       "                </td>\n",
       "            </tr>\n",
       "            \n",
       "            <tr>\n",
       "    <td style=\"text-align: left;\"><strong>Status:</strong> running</td>\n",
       "    <td style=\"text-align: left;\"><strong>Using processes:</strong> True</td>\n",
       "</tr>\n",
       "\n",
       "            \n",
       "        </table>\n",
       "\n",
       "        <details>\n",
       "            <summary style=\"margin-bottom: 20px;\">\n",
       "                <h3 style=\"display: inline;\">Scheduler Info</h3>\n",
       "            </summary>\n",
       "\n",
       "            <div style=\"\">\n",
       "    <div>\n",
       "        <div style=\"width: 24px; height: 24px; background-color: #FFF7E5; border: 3px solid #FF6132; border-radius: 5px; position: absolute;\"> </div>\n",
       "        <div style=\"margin-left: 48px;\">\n",
       "            <h3 style=\"margin-bottom: 0px;\">Scheduler</h3>\n",
       "            <p style=\"color: #9D9D9D; margin-bottom: 0px;\">Scheduler-891a3053-e5db-4022-9388-403d0c071e35</p>\n",
       "            <table style=\"width: 100%; text-align: left;\">\n",
       "                <tr>\n",
       "                    <td style=\"text-align: left;\">\n",
       "                        <strong>Comm:</strong> tcp://127.0.0.1:38383\n",
       "                    </td>\n",
       "                    <td style=\"text-align: left;\">\n",
       "                        <strong>Workers:</strong> 2\n",
       "                    </td>\n",
       "                </tr>\n",
       "                <tr>\n",
       "                    <td style=\"text-align: left;\">\n",
       "                        <strong>Dashboard:</strong> <a href=\"http://127.0.0.1:8787/status\" target=\"_blank\">http://127.0.0.1:8787/status</a>\n",
       "                    </td>\n",
       "                    <td style=\"text-align: left;\">\n",
       "                        <strong>Total threads:</strong> 2\n",
       "                    </td>\n",
       "                </tr>\n",
       "                <tr>\n",
       "                    <td style=\"text-align: left;\">\n",
       "                        <strong>Started:</strong> Just now\n",
       "                    </td>\n",
       "                    <td style=\"text-align: left;\">\n",
       "                        <strong>Total memory:</strong> 3.83 GiB\n",
       "                    </td>\n",
       "                </tr>\n",
       "            </table>\n",
       "        </div>\n",
       "    </div>\n",
       "\n",
       "    <details style=\"margin-left: 48px;\">\n",
       "        <summary style=\"margin-bottom: 20px;\">\n",
       "            <h3 style=\"display: inline;\">Workers</h3>\n",
       "        </summary>\n",
       "\n",
       "        \n",
       "        <div style=\"margin-bottom: 20px;\">\n",
       "            <div style=\"width: 24px; height: 24px; background-color: #DBF5FF; border: 3px solid #4CC9FF; border-radius: 5px; position: absolute;\"> </div>\n",
       "            <div style=\"margin-left: 48px;\">\n",
       "            <details>\n",
       "                <summary>\n",
       "                    <h4 style=\"margin-bottom: 0px; display: inline;\">Worker: 0</h4>\n",
       "                </summary>\n",
       "                <table style=\"width: 100%; text-align: left;\">\n",
       "                    <tr>\n",
       "                        <td style=\"text-align: left;\">\n",
       "                            <strong>Comm: </strong> tcp://127.0.0.1:45451\n",
       "                        </td>\n",
       "                        <td style=\"text-align: left;\">\n",
       "                            <strong>Total threads: </strong> 1\n",
       "                        </td>\n",
       "                    </tr>\n",
       "                    <tr>\n",
       "                        <td style=\"text-align: left;\">\n",
       "                            <strong>Dashboard: </strong> <a href=\"http://127.0.0.1:44419/status\" target=\"_blank\">http://127.0.0.1:44419/status</a>\n",
       "                        </td>\n",
       "                        <td style=\"text-align: left;\">\n",
       "                            <strong>Memory: </strong> 1.91 GiB\n",
       "                        </td>\n",
       "                    </tr>\n",
       "                    <tr>\n",
       "                        <td style=\"text-align: left;\">\n",
       "                            <strong>Nanny: </strong> tcp://127.0.0.1:43833\n",
       "                        </td>\n",
       "                        <td style=\"text-align: left;\"></td>\n",
       "                    </tr>\n",
       "                    <tr>\n",
       "                        <td colspan=\"2\" style=\"text-align: left;\">\n",
       "                            <strong>Local directory: </strong> /tmp/dask-scratch-space/worker-f56l7jwp\n",
       "                        </td>\n",
       "                    </tr>\n",
       "\n",
       "                    \n",
       "\n",
       "                    \n",
       "\n",
       "                </table>\n",
       "            </details>\n",
       "            </div>\n",
       "        </div>\n",
       "        \n",
       "        <div style=\"margin-bottom: 20px;\">\n",
       "            <div style=\"width: 24px; height: 24px; background-color: #DBF5FF; border: 3px solid #4CC9FF; border-radius: 5px; position: absolute;\"> </div>\n",
       "            <div style=\"margin-left: 48px;\">\n",
       "            <details>\n",
       "                <summary>\n",
       "                    <h4 style=\"margin-bottom: 0px; display: inline;\">Worker: 1</h4>\n",
       "                </summary>\n",
       "                <table style=\"width: 100%; text-align: left;\">\n",
       "                    <tr>\n",
       "                        <td style=\"text-align: left;\">\n",
       "                            <strong>Comm: </strong> tcp://127.0.0.1:35671\n",
       "                        </td>\n",
       "                        <td style=\"text-align: left;\">\n",
       "                            <strong>Total threads: </strong> 1\n",
       "                        </td>\n",
       "                    </tr>\n",
       "                    <tr>\n",
       "                        <td style=\"text-align: left;\">\n",
       "                            <strong>Dashboard: </strong> <a href=\"http://127.0.0.1:44749/status\" target=\"_blank\">http://127.0.0.1:44749/status</a>\n",
       "                        </td>\n",
       "                        <td style=\"text-align: left;\">\n",
       "                            <strong>Memory: </strong> 1.91 GiB\n",
       "                        </td>\n",
       "                    </tr>\n",
       "                    <tr>\n",
       "                        <td style=\"text-align: left;\">\n",
       "                            <strong>Nanny: </strong> tcp://127.0.0.1:33935\n",
       "                        </td>\n",
       "                        <td style=\"text-align: left;\"></td>\n",
       "                    </tr>\n",
       "                    <tr>\n",
       "                        <td colspan=\"2\" style=\"text-align: left;\">\n",
       "                            <strong>Local directory: </strong> /tmp/dask-scratch-space/worker-ln2921tg\n",
       "                        </td>\n",
       "                    </tr>\n",
       "\n",
       "                    \n",
       "\n",
       "                    \n",
       "\n",
       "                </table>\n",
       "            </details>\n",
       "            </div>\n",
       "        </div>\n",
       "        \n",
       "\n",
       "    </details>\n",
       "</div>\n",
       "\n",
       "        </details>\n",
       "    </div>\n",
       "</div>\n",
       "            </details>\n",
       "        \n",
       "\n",
       "    </div>\n",
       "</div>"
      ],
      "text/plain": [
       "<Client: 'tcp://127.0.0.1:38383' processes=2 threads=2, memory=3.83 GiB>"
      ]
     },
     "execution_count": 3,
     "metadata": {},
     "output_type": "execute_result"
    }
   ],
   "source": [
    "cluster = LocalCluster()\n",
    "client = Client(cluster)\n",
    "client"
   ]
  },
  {
   "cell_type": "code",
   "execution_count": 4,
   "metadata": {},
   "outputs": [],
   "source": [
    "# PATH1 = 'G:/industry_data/264.건설 모래 품질 관리데이터/01-1.정식개방데이터/Training/01.원천데이터'\n",
    "# PATH2 = 'G:/industry_data/117.산업시설 열화상 CCTV 데이터/01.데이터/1.Training/원천데이터'\n",
    "# PATH3 = 'G:/industry_data/264.건설 모래 품질 관리데이터/01-1.정식개방데이터/Training/02.라벨링데이터'\n",
    "\n",
    "# 열화상 cctv 데이터\n",
    "PATH_CCTV_DATA = '/home/jovyan/work/local_src/industry_data/117.산업시설 열화상 CCTV 데이터/01.데이터/1.Training/원천데이터/*'\n",
    "PATH_CCTV_LABEL_DATA = '/home/jovyan/work/local_src/industry_data/117.산업시설 열화상 CCTV 데이터/01.데이터/1.Training/라벨링데이터/*'\n",
    "\n",
    "# 모래 품질 데이터\n",
    "PATH_SAND_DATA = '/home/jovyan/work/local_src/industry_data/264.건설 모래 품질 관리데이터/01-1.정식개방데이터/Training/01.원천데이터/*'\n",
    "PATH_SAND_LABEL_DATA = '/home/jovyan/work/local_src/industry_data/264.건설 모래 품질 관리데이터/01-1.정식개방데이터/Training/02.라벨링데이터/*'\n",
    "\n",
    "# path = Path(PATH3)\n",
    "# zip_files = list(path.glob('*.zip'))\n",
    "# zip_files = path.glob('*.zip')\n",
    "# prepro = Preprocessing() \n",
    "\n",
    "cctv_zip_paths = prepro.get_all_zip_file_paths(PATH_CCTV_DATA)\n",
    "cctv_zip_label_paths = prepro.get_all_zip_file_paths(PATH_CCTV_LABEL_DATA)\n",
    "\n",
    "sand_zip_paths = prepro.get_all_zip_file_paths(PATH_SAND_DATA)\n",
    "sand_zip_label_paths = prepro.get_all_zip_file_paths(PATH_SAND_LABEL_DATA)"
   ]
  },
  {
   "cell_type": "code",
   "execution_count": 2,
   "metadata": {},
   "outputs": [
    {
     "ename": "NameError",
     "evalue": "name 'prepro' is not defined",
     "output_type": "error",
     "traceback": [
      "\u001b[1;31m---------------------------------------------------------------------------\u001b[0m",
      "\u001b[1;31mNameError\u001b[0m                                 Traceback (most recent call last)",
      "Cell \u001b[1;32mIn[2], line 2\u001b[0m\n\u001b[0;32m      1\u001b[0m sand_val_path\u001b[38;5;241m=\u001b[39m \u001b[38;5;124m'\u001b[39m\u001b[38;5;124mG:\u001b[39m\u001b[38;5;124m\\\u001b[39m\u001b[38;5;124mindustry_data\u001b[39m\u001b[38;5;124m\\\u001b[39m\u001b[38;5;124msand_data\u001b[39m\u001b[38;5;124m\\\u001b[39m\u001b[38;5;124mdata\u001b[39m\u001b[38;5;124m\\\u001b[39m\u001b[38;5;124mValidation\u001b[39m\u001b[38;5;130;01m\\01\u001b[39;00m\u001b[38;5;124m.원천데이터\u001b[39m\u001b[38;5;124m'\u001b[39m\n\u001b[1;32m----> 2\u001b[0m cctv_zip_paths \u001b[38;5;241m=\u001b[39m \u001b[43mprepro\u001b[49m\u001b[38;5;241m.\u001b[39mget_all_zip_file_paths(sand_val_path)\n",
      "\u001b[1;31mNameError\u001b[0m: name 'prepro' is not defined"
     ]
    }
   ],
   "source": [
    "sand_val_path= 'G:\\industry_data\\sand_data\\data\\Validation\\01.원천데이터'\n",
    "cctv_zip_paths = prepro.get_all_zip_file_paths(sand_val_path)"
   ]
  },
  {
   "cell_type": "code",
   "execution_count": 10,
   "metadata": {},
   "outputs": [],
   "source": [
    "# test_path = []\n",
    "\n",
    "# zip_files = sorted(cctv_zip_paths)\n",
    "# for i in range(0, len(zip_files), 3):\n",
    "#     subset = zip_files[i:i+3]\n",
    "#     for item in subset:\n",
    "#         print(item)\n",
    "#         test_path.append(item)\n",
    "#     print()  "
   ]
  },
  {
   "cell_type": "code",
   "execution_count": 5,
   "metadata": {},
   "outputs": [],
   "source": [
    "# tasks = [delayed(prepro.extract_zip)(zip_file) for zip_file in zip_files]\n",
    "tasks = [delayed(prepro.extract_zip)(zip_file) for zip_file in sorted(cctv_zip_paths)]\n",
    "\n",
    "bag = db.from_delayed(tasks)\n",
    "results = bag.compute()\n",
    "\n",
    "# for result in results:\n",
    "#     print(result)"
   ]
  },
  {
   "cell_type": "code",
   "execution_count": 6,
   "metadata": {},
   "outputs": [
    {
     "name": "stdout",
     "output_type": "stream",
     "text": [
      "Extracted /home/jovyan/work/local_src/industry_data/117.산업시설 열화상 CCTV 데이터/01.데이터/1.Training/원천데이터/TS1.zip to /home/jovyan/work/local_src/industry_data/117.산업시설 열화상 CCTV 데이터/01.데이터/1.Training/원천데이터/TS1\n",
      "Extracted /home/jovyan/work/local_src/industry_data/117.산업시설 열화상 CCTV 데이터/01.데이터/1.Training/원천데이터/TS10.zip to /home/jovyan/work/local_src/industry_data/117.산업시설 열화상 CCTV 데이터/01.데이터/1.Training/원천데이터/TS10\n",
      "Extracted /home/jovyan/work/local_src/industry_data/117.산업시설 열화상 CCTV 데이터/01.데이터/1.Training/원천데이터/TS11.zip to /home/jovyan/work/local_src/industry_data/117.산업시설 열화상 CCTV 데이터/01.데이터/1.Training/원천데이터/TS11\n",
      "Extracted /home/jovyan/work/local_src/industry_data/117.산업시설 열화상 CCTV 데이터/01.데이터/1.Training/원천데이터/TS12.zip to /home/jovyan/work/local_src/industry_data/117.산업시설 열화상 CCTV 데이터/01.데이터/1.Training/원천데이터/TS12\n",
      "Extracted /home/jovyan/work/local_src/industry_data/117.산업시설 열화상 CCTV 데이터/01.데이터/1.Training/원천데이터/TS13.zip to /home/jovyan/work/local_src/industry_data/117.산업시설 열화상 CCTV 데이터/01.데이터/1.Training/원천데이터/TS13\n",
      "Extracted /home/jovyan/work/local_src/industry_data/117.산업시설 열화상 CCTV 데이터/01.데이터/1.Training/원천데이터/TS14.zip to /home/jovyan/work/local_src/industry_data/117.산업시설 열화상 CCTV 데이터/01.데이터/1.Training/원천데이터/TS14\n",
      "Extracted /home/jovyan/work/local_src/industry_data/117.산업시설 열화상 CCTV 데이터/01.데이터/1.Training/원천데이터/TS15.zip to /home/jovyan/work/local_src/industry_data/117.산업시설 열화상 CCTV 데이터/01.데이터/1.Training/원천데이터/TS15\n",
      "Extracted /home/jovyan/work/local_src/industry_data/117.산업시설 열화상 CCTV 데이터/01.데이터/1.Training/원천데이터/TS16.zip to /home/jovyan/work/local_src/industry_data/117.산업시설 열화상 CCTV 데이터/01.데이터/1.Training/원천데이터/TS16\n",
      "Extracted /home/jovyan/work/local_src/industry_data/117.산업시설 열화상 CCTV 데이터/01.데이터/1.Training/원천데이터/TS17.zip to /home/jovyan/work/local_src/industry_data/117.산업시설 열화상 CCTV 데이터/01.데이터/1.Training/원천데이터/TS17\n",
      "Extracted /home/jovyan/work/local_src/industry_data/117.산업시설 열화상 CCTV 데이터/01.데이터/1.Training/원천데이터/TS18.zip to /home/jovyan/work/local_src/industry_data/117.산업시설 열화상 CCTV 데이터/01.데이터/1.Training/원천데이터/TS18\n",
      "Extracted /home/jovyan/work/local_src/industry_data/117.산업시설 열화상 CCTV 데이터/01.데이터/1.Training/원천데이터/TS2.zip to /home/jovyan/work/local_src/industry_data/117.산업시설 열화상 CCTV 데이터/01.데이터/1.Training/원천데이터/TS2\n",
      "Extracted /home/jovyan/work/local_src/industry_data/117.산업시설 열화상 CCTV 데이터/01.데이터/1.Training/원천데이터/TS3.zip to /home/jovyan/work/local_src/industry_data/117.산업시설 열화상 CCTV 데이터/01.데이터/1.Training/원천데이터/TS3\n",
      "Extracted /home/jovyan/work/local_src/industry_data/117.산업시설 열화상 CCTV 데이터/01.데이터/1.Training/원천데이터/TS4.zip to /home/jovyan/work/local_src/industry_data/117.산업시설 열화상 CCTV 데이터/01.데이터/1.Training/원천데이터/TS4\n",
      "Extracted /home/jovyan/work/local_src/industry_data/117.산업시설 열화상 CCTV 데이터/01.데이터/1.Training/원천데이터/TS5.zip to /home/jovyan/work/local_src/industry_data/117.산업시설 열화상 CCTV 데이터/01.데이터/1.Training/원천데이터/TS5\n",
      "Extracted /home/jovyan/work/local_src/industry_data/117.산업시설 열화상 CCTV 데이터/01.데이터/1.Training/원천데이터/TS6.zip to /home/jovyan/work/local_src/industry_data/117.산업시설 열화상 CCTV 데이터/01.데이터/1.Training/원천데이터/TS6\n",
      "Extracted /home/jovyan/work/local_src/industry_data/117.산업시설 열화상 CCTV 데이터/01.데이터/1.Training/원천데이터/TS7.zip to /home/jovyan/work/local_src/industry_data/117.산업시설 열화상 CCTV 데이터/01.데이터/1.Training/원천데이터/TS7\n",
      "Extracted /home/jovyan/work/local_src/industry_data/117.산업시설 열화상 CCTV 데이터/01.데이터/1.Training/원천데이터/TS8.zip to /home/jovyan/work/local_src/industry_data/117.산업시설 열화상 CCTV 데이터/01.데이터/1.Training/원천데이터/TS8\n",
      "Extracted /home/jovyan/work/local_src/industry_data/117.산업시설 열화상 CCTV 데이터/01.데이터/1.Training/원천데이터/TS9.zip to /home/jovyan/work/local_src/industry_data/117.산업시설 열화상 CCTV 데이터/01.데이터/1.Training/원천데이터/TS9\n"
     ]
    }
   ],
   "source": [
    "for result in results:\n",
    "    print(result)"
   ]
  },
  {
   "cell_type": "code",
   "execution_count": 7,
   "metadata": {},
   "outputs": [],
   "source": [
    "cctv_zip_label_tasks = [delayed(prepro.extract_zip)(zip_file) for zip_file in sorted(cctv_zip_label_paths)]\n",
    "\n",
    "cctv_zip_label_tasks_bag = db.from_delayed(cctv_zip_label_tasks)\n",
    "cctv_zip_label_tasks_results = cctv_zip_label_tasks_bag.compute()"
   ]
  },
  {
   "cell_type": "code",
   "execution_count": 8,
   "metadata": {},
   "outputs": [
    {
     "name": "stdout",
     "output_type": "stream",
     "text": [
      "Extracted /home/jovyan/work/local_src/industry_data/117.산업시설 열화상 CCTV 데이터/01.데이터/1.Training/라벨링데이터/TL1.zip to /home/jovyan/work/local_src/industry_data/117.산업시설 열화상 CCTV 데이터/01.데이터/1.Training/라벨링데이터/TL1\n",
      "Extracted /home/jovyan/work/local_src/industry_data/117.산업시설 열화상 CCTV 데이터/01.데이터/1.Training/라벨링데이터/TL11.zip to /home/jovyan/work/local_src/industry_data/117.산업시설 열화상 CCTV 데이터/01.데이터/1.Training/라벨링데이터/TL11\n",
      "Extracted /home/jovyan/work/local_src/industry_data/117.산업시설 열화상 CCTV 데이터/01.데이터/1.Training/라벨링데이터/TL12.zip to /home/jovyan/work/local_src/industry_data/117.산업시설 열화상 CCTV 데이터/01.데이터/1.Training/라벨링데이터/TL12\n",
      "Extracted /home/jovyan/work/local_src/industry_data/117.산업시설 열화상 CCTV 데이터/01.데이터/1.Training/라벨링데이터/TL13.zip to /home/jovyan/work/local_src/industry_data/117.산업시설 열화상 CCTV 데이터/01.데이터/1.Training/라벨링데이터/TL13\n",
      "Extracted /home/jovyan/work/local_src/industry_data/117.산업시설 열화상 CCTV 데이터/01.데이터/1.Training/라벨링데이터/TL14.zip to /home/jovyan/work/local_src/industry_data/117.산업시설 열화상 CCTV 데이터/01.데이터/1.Training/라벨링데이터/TL14\n",
      "Extracted /home/jovyan/work/local_src/industry_data/117.산업시설 열화상 CCTV 데이터/01.데이터/1.Training/라벨링데이터/TL15.zip to /home/jovyan/work/local_src/industry_data/117.산업시설 열화상 CCTV 데이터/01.데이터/1.Training/라벨링데이터/TL15\n",
      "Extracted /home/jovyan/work/local_src/industry_data/117.산업시설 열화상 CCTV 데이터/01.데이터/1.Training/라벨링데이터/TL16.zip to /home/jovyan/work/local_src/industry_data/117.산업시설 열화상 CCTV 데이터/01.데이터/1.Training/라벨링데이터/TL16\n",
      "Extracted /home/jovyan/work/local_src/industry_data/117.산업시설 열화상 CCTV 데이터/01.데이터/1.Training/라벨링데이터/TL17.zip to /home/jovyan/work/local_src/industry_data/117.산업시설 열화상 CCTV 데이터/01.데이터/1.Training/라벨링데이터/TL17\n",
      "Extracted /home/jovyan/work/local_src/industry_data/117.산업시설 열화상 CCTV 데이터/01.데이터/1.Training/라벨링데이터/TL18.zip to /home/jovyan/work/local_src/industry_data/117.산업시설 열화상 CCTV 데이터/01.데이터/1.Training/라벨링데이터/TL18\n",
      "Extracted /home/jovyan/work/local_src/industry_data/117.산업시설 열화상 CCTV 데이터/01.데이터/1.Training/라벨링데이터/TL2.zip to /home/jovyan/work/local_src/industry_data/117.산업시설 열화상 CCTV 데이터/01.데이터/1.Training/라벨링데이터/TL2\n",
      "Extracted /home/jovyan/work/local_src/industry_data/117.산업시설 열화상 CCTV 데이터/01.데이터/1.Training/라벨링데이터/TL3.zip to /home/jovyan/work/local_src/industry_data/117.산업시설 열화상 CCTV 데이터/01.데이터/1.Training/라벨링데이터/TL3\n",
      "Extracted /home/jovyan/work/local_src/industry_data/117.산업시설 열화상 CCTV 데이터/01.데이터/1.Training/라벨링데이터/TL4.zip to /home/jovyan/work/local_src/industry_data/117.산업시설 열화상 CCTV 데이터/01.데이터/1.Training/라벨링데이터/TL4\n",
      "Extracted /home/jovyan/work/local_src/industry_data/117.산업시설 열화상 CCTV 데이터/01.데이터/1.Training/라벨링데이터/TL5.zip to /home/jovyan/work/local_src/industry_data/117.산업시설 열화상 CCTV 데이터/01.데이터/1.Training/라벨링데이터/TL5\n",
      "Extracted /home/jovyan/work/local_src/industry_data/117.산업시설 열화상 CCTV 데이터/01.데이터/1.Training/라벨링데이터/TL6.zip to /home/jovyan/work/local_src/industry_data/117.산업시설 열화상 CCTV 데이터/01.데이터/1.Training/라벨링데이터/TL6\n",
      "Extracted /home/jovyan/work/local_src/industry_data/117.산업시설 열화상 CCTV 데이터/01.데이터/1.Training/라벨링데이터/TL7.zip to /home/jovyan/work/local_src/industry_data/117.산업시설 열화상 CCTV 데이터/01.데이터/1.Training/라벨링데이터/TL7\n",
      "Extracted /home/jovyan/work/local_src/industry_data/117.산업시설 열화상 CCTV 데이터/01.데이터/1.Training/라벨링데이터/TL8.zip to /home/jovyan/work/local_src/industry_data/117.산업시설 열화상 CCTV 데이터/01.데이터/1.Training/라벨링데이터/TL8\n",
      "Extracted /home/jovyan/work/local_src/industry_data/117.산업시설 열화상 CCTV 데이터/01.데이터/1.Training/라벨링데이터/TL9.zip to /home/jovyan/work/local_src/industry_data/117.산업시설 열화상 CCTV 데이터/01.데이터/1.Training/라벨링데이터/TL9\n"
     ]
    }
   ],
   "source": [
    "for result in cctv_zip_label_tasks_results:\n",
    "    print(result)"
   ]
  },
  {
   "cell_type": "code",
   "execution_count": 9,
   "metadata": {},
   "outputs": [],
   "source": [
    "sand_zip_tasks = [delayed(prepro.extract_zip)(zip_file) for zip_file in sorted(sand_zip_paths)]\n",
    "\n",
    "sand_zip_tasks_bag = db.from_delayed(sand_zip_tasks)\n",
    "sand_tasks_results = sand_zip_tasks_bag.compute()"
   ]
  },
  {
   "cell_type": "code",
   "execution_count": 10,
   "metadata": {},
   "outputs": [
    {
     "name": "stdout",
     "output_type": "stream",
     "text": [
      "Delayed('extract_zip-00cb7742-abbf-4eff-8215-03c116a06135')\n",
      "Delayed('extract_zip-4ee3dd98-c12d-4818-bc77-f20368321c92')\n",
      "Delayed('extract_zip-258c4f7d-ddc5-4670-9708-da2b27bc49f0')\n",
      "Delayed('extract_zip-c4729086-bbca-4e75-bb59-8a0edb65b9e3')\n",
      "Delayed('extract_zip-b0d24051-aa41-4c91-afd8-2720d70e9f30')\n",
      "Delayed('extract_zip-9d81e0f0-2fad-4b2d-b935-e4c36b6f31cc')\n",
      "Delayed('extract_zip-a911d62b-9975-4946-8386-a828b9f0fc82')\n",
      "Delayed('extract_zip-2d9f2644-64f9-4a60-a93b-f37080746bbb')\n",
      "Delayed('extract_zip-e78148d6-b97b-436f-a96e-9283724390de')\n",
      "Delayed('extract_zip-29cacb34-772c-4094-82c4-617b73b448ab')\n",
      "Delayed('extract_zip-2c5b4f51-99ed-4ca4-90ba-ef15c5ed1d5e')\n",
      "Delayed('extract_zip-d964d478-5d58-4a1b-8e2f-c2779f1f2ed2')\n",
      "Delayed('extract_zip-b2f5ca0a-8634-440a-b3da-9a4c8fc421cb')\n",
      "Delayed('extract_zip-53782af7-b8e0-43ba-8c02-5db7818e2580')\n",
      "Delayed('extract_zip-5cd87562-3ad9-498a-b8be-d5146326df64')\n",
      "Delayed('extract_zip-87f1bf1c-59dd-4e21-a062-7e22d40ccee7')\n",
      "Delayed('extract_zip-9dca3121-81ca-4e6e-9832-348a14d62786')\n",
      "Delayed('extract_zip-e25e2191-a4f9-49ff-a74f-7f8d218ec451')\n"
     ]
    }
   ],
   "source": [
    "for result in sand_zip_tasks:\n",
    "    print(result)"
   ]
  },
  {
   "cell_type": "code",
   "execution_count": 11,
   "metadata": {},
   "outputs": [],
   "source": [
    "sand_zip_label_tasks = [delayed(prepro.extract_zip)(zip_file) for zip_file in sorted(sand_zip_label_paths)]\n",
    "\n",
    "sand_zip_label_tasks_bag = db.from_delayed(sand_zip_label_tasks)\n",
    "sand_zip_label_tasks_results = sand_zip_label_tasks_bag.compute()"
   ]
  },
  {
   "cell_type": "code",
   "execution_count": null,
   "metadata": {},
   "outputs": [],
   "source": [
    "for result in sand_zip_label_tasks_results:\n",
    "    print(result)"
   ]
  },
  {
   "cell_type": "code",
   "execution_count": null,
   "metadata": {},
   "outputs": [],
   "source": [
    "tasks = [delayed(prepro.extract_zip)(zip_file) for zip_file in sorted(cctv_zip_paths)]\n",
    "\n",
    "bag = db.from_delayed(tasks)\n",
    "results = bag.compute()"
   ]
  }
 ],
 "metadata": {
  "kernelspec": {
   "display_name": ".prepro",
   "language": "python",
   "name": "python3"
  },
  "language_info": {
   "codemirror_mode": {
    "name": "ipython",
    "version": 3
   },
   "file_extension": ".py",
   "mimetype": "text/x-python",
   "name": "python",
   "nbconvert_exporter": "python",
   "pygments_lexer": "ipython3",
   "version": "3.11.2"
  }
 },
 "nbformat": 4,
 "nbformat_minor": 2
}
