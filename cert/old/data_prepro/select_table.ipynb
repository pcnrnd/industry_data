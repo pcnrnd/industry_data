{
 "cells": [
  {
   "cell_type": "code",
   "execution_count": 1,
   "metadata": {},
   "outputs": [],
   "source": [
    "import sqlite3\n",
    "import pandas as pd"
   ]
  },
  {
   "cell_type": "code",
   "execution_count": null,
   "metadata": {},
   "outputs": [],
   "source": [
    "# SQLite 데이터베이스 연결\n",
    "conn = sqlite3.connect('./database/database.db')\n",
    "cursor = conn.cursor()\n",
    "\n",
    "# TB_meta_info 테이블 조회\n",
    "# cursor.execute(\"SELECT * FROM TB_meta_info\").fetchall()\n",
    "# rows = cursor.fetchall()"
   ]
  },
  {
   "cell_type": "code",
   "execution_count": null,
   "metadata": {},
   "outputs": [],
   "source": [
    "df = pd.read_sql_query(\"SELECT * FROM TB_meta_info\", conn)"
   ]
  },
  {
   "cell_type": "code",
   "execution_count": null,
   "metadata": {},
   "outputs": [],
   "source": [
    "df"
   ]
  },
  {
   "cell_type": "code",
   "execution_count": 19,
   "metadata": {},
   "outputs": [
    {
     "data": {
      "text/html": [
       "<div>\n",
       "<style scoped>\n",
       "    .dataframe tbody tr th:only-of-type {\n",
       "        vertical-align: middle;\n",
       "    }\n",
       "\n",
       "    .dataframe tbody tr th {\n",
       "        vertical-align: top;\n",
       "    }\n",
       "\n",
       "    .dataframe thead th {\n",
       "        text-align: right;\n",
       "    }\n",
       "</style>\n",
       "<table border=\"1\" class=\"dataframe\">\n",
       "  <thead>\n",
       "    <tr style=\"text-align: right;\">\n",
       "      <th></th>\n",
       "      <th>full_path</th>\n",
       "      <th>file_id</th>\n",
       "      <th>folder_name</th>\n",
       "      <th>file_size</th>\n",
       "      <th>file_type</th>\n",
       "    </tr>\n",
       "  </thead>\n",
       "  <tbody>\n",
       "    <tr>\n",
       "      <th>0</th>\n",
       "      <td>G:\\industry_data\\cctv_data\\data\\1.Training\\lab...</td>\n",
       "      <td>TL1</td>\n",
       "      <td>label_data</td>\n",
       "      <td>16281009</td>\n",
       "      <td>.zip</td>\n",
       "    </tr>\n",
       "    <tr>\n",
       "      <th>1</th>\n",
       "      <td>G:\\industry_data\\cctv_data\\data\\1.Training\\lab...</td>\n",
       "      <td>TL11</td>\n",
       "      <td>label_data</td>\n",
       "      <td>20319814</td>\n",
       "      <td>.zip</td>\n",
       "    </tr>\n",
       "    <tr>\n",
       "      <th>2</th>\n",
       "      <td>G:\\industry_data\\cctv_data\\data\\1.Training\\lab...</td>\n",
       "      <td>TL12</td>\n",
       "      <td>label_data</td>\n",
       "      <td>18182020</td>\n",
       "      <td>.zip</td>\n",
       "    </tr>\n",
       "    <tr>\n",
       "      <th>3</th>\n",
       "      <td>G:\\industry_data\\cctv_data\\data\\1.Training\\lab...</td>\n",
       "      <td>TL13</td>\n",
       "      <td>label_data</td>\n",
       "      <td>16194919</td>\n",
       "      <td>.zip</td>\n",
       "    </tr>\n",
       "    <tr>\n",
       "      <th>4</th>\n",
       "      <td>G:\\industry_data\\cctv_data\\data\\1.Training\\lab...</td>\n",
       "      <td>TL14</td>\n",
       "      <td>label_data</td>\n",
       "      <td>14802585</td>\n",
       "      <td>.zip</td>\n",
       "    </tr>\n",
       "    <tr>\n",
       "      <th>...</th>\n",
       "      <td>...</td>\n",
       "      <td>...</td>\n",
       "      <td>...</td>\n",
       "      <td>...</td>\n",
       "      <td>...</td>\n",
       "    </tr>\n",
       "    <tr>\n",
       "      <th>2745334</th>\n",
       "      <td>G:\\industry_data\\sand_data\\data\\Validation\\01....</td>\n",
       "      <td>442236</td>\n",
       "      <td>VS_2.모래위험광물분류</td>\n",
       "      <td>5862592</td>\n",
       "      <td>.png</td>\n",
       "    </tr>\n",
       "    <tr>\n",
       "      <th>2745335</th>\n",
       "      <td>G:\\industry_data\\sand_data\\data\\Validation\\01....</td>\n",
       "      <td>442237</td>\n",
       "      <td>VS_2.모래위험광물분류</td>\n",
       "      <td>5373272</td>\n",
       "      <td>.png</td>\n",
       "    </tr>\n",
       "    <tr>\n",
       "      <th>2745336</th>\n",
       "      <td>G:\\industry_data\\sand_data\\data\\Validation\\01....</td>\n",
       "      <td>442257</td>\n",
       "      <td>VS_2.모래위험광물분류</td>\n",
       "      <td>5439086</td>\n",
       "      <td>.png</td>\n",
       "    </tr>\n",
       "    <tr>\n",
       "      <th>2745337</th>\n",
       "      <td>G:\\industry_data\\sand_data\\data\\Validation\\02....</td>\n",
       "      <td>VL_1.모래입자크기분류</td>\n",
       "      <td>02.라벨링데이터</td>\n",
       "      <td>28313802</td>\n",
       "      <td>.zip</td>\n",
       "    </tr>\n",
       "    <tr>\n",
       "      <th>2745338</th>\n",
       "      <td>G:\\industry_data\\sand_data\\data\\Validation\\02....</td>\n",
       "      <td>VL_2.모래위험광물분류</td>\n",
       "      <td>02.라벨링데이터</td>\n",
       "      <td>149955891</td>\n",
       "      <td>.zip</td>\n",
       "    </tr>\n",
       "  </tbody>\n",
       "</table>\n",
       "<p>2745339 rows × 5 columns</p>\n",
       "</div>"
      ],
      "text/plain": [
       "                                                 full_path        file_id  \\\n",
       "0        G:\\industry_data\\cctv_data\\data\\1.Training\\lab...            TL1   \n",
       "1        G:\\industry_data\\cctv_data\\data\\1.Training\\lab...           TL11   \n",
       "2        G:\\industry_data\\cctv_data\\data\\1.Training\\lab...           TL12   \n",
       "3        G:\\industry_data\\cctv_data\\data\\1.Training\\lab...           TL13   \n",
       "4        G:\\industry_data\\cctv_data\\data\\1.Training\\lab...           TL14   \n",
       "...                                                    ...            ...   \n",
       "2745334  G:\\industry_data\\sand_data\\data\\Validation\\01....         442236   \n",
       "2745335  G:\\industry_data\\sand_data\\data\\Validation\\01....         442237   \n",
       "2745336  G:\\industry_data\\sand_data\\data\\Validation\\01....         442257   \n",
       "2745337  G:\\industry_data\\sand_data\\data\\Validation\\02....  VL_1.모래입자크기분류   \n",
       "2745338  G:\\industry_data\\sand_data\\data\\Validation\\02....  VL_2.모래위험광물분류   \n",
       "\n",
       "           folder_name  file_size file_type  \n",
       "0           label_data   16281009      .zip  \n",
       "1           label_data   20319814      .zip  \n",
       "2           label_data   18182020      .zip  \n",
       "3           label_data   16194919      .zip  \n",
       "4           label_data   14802585      .zip  \n",
       "...                ...        ...       ...  \n",
       "2745334  VS_2.모래위험광물분류    5862592      .png  \n",
       "2745335  VS_2.모래위험광물분류    5373272      .png  \n",
       "2745336  VS_2.모래위험광물분류    5439086      .png  \n",
       "2745337      02.라벨링데이터   28313802      .zip  \n",
       "2745338      02.라벨링데이터  149955891      .zip  \n",
       "\n",
       "[2745339 rows x 5 columns]"
      ]
     },
     "execution_count": 19,
     "metadata": {},
     "output_type": "execute_result"
    }
   ],
   "source": [
    "df"
   ]
  },
  {
   "cell_type": "code",
   "execution_count": 18,
   "metadata": {},
   "outputs": [],
   "source": [
    "conn.close()"
   ]
  },
  {
   "cell_type": "code",
   "execution_count": null,
   "metadata": {},
   "outputs": [],
   "source": []
  },
  {
   "cell_type": "code",
   "execution_count": null,
   "metadata": {},
   "outputs": [],
   "source": []
  }
 ],
 "metadata": {
  "kernelspec": {
   "display_name": ".test_venv",
   "language": "python",
   "name": "python3"
  },
  "language_info": {
   "codemirror_mode": {
    "name": "ipython",
    "version": 3
   },
   "file_extension": ".py",
   "mimetype": "text/x-python",
   "name": "python",
   "nbconvert_exporter": "python",
   "pygments_lexer": "ipython3",
   "version": "3.10.11"
  }
 },
 "nbformat": 4,
 "nbformat_minor": 2
}
