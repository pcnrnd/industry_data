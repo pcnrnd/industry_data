{
 "cells": [
  {
   "cell_type": "code",
   "execution_count": 1,
   "metadata": {},
   "outputs": [],
   "source": [
    "import sqlite3\n",
    "import pandas as pd"
   ]
  },
  {
   "cell_type": "code",
   "execution_count": 2,
   "metadata": {},
   "outputs": [],
   "source": [
    "# SQLite 데이터베이스 연결\n",
    "conn = sqlite3.connect('./database/database.db')\n",
    "cursor = conn.cursor()\n",
    "\n",
    "# TB_meta_info 테이블 조회\n",
    "# cursor.execute(\"SELECT * FROM TB_meta_info\").fetchall()\n",
    "# rows = cursor.fetchall()\n",
    "# cursor.execute(\"DROP TABLE TB_meta_info;\")\n",
    "# cursor.execute(\"PRAGMA table_list;\").fetchall()"
   ]
  },
  {
   "cell_type": "code",
   "execution_count": 6,
   "metadata": {},
   "outputs": [
    {
     "data": {
      "text/plain": [
       "<sqlite3.Cursor at 0x70f2a4507240>"
      ]
     },
     "execution_count": 6,
     "metadata": {},
     "output_type": "execute_result"
    }
   ],
   "source": [
    "cursor.execute(\"DROP TABLE TB_meta_info;\")"
   ]
  },
  {
   "cell_type": "code",
   "execution_count": 7,
   "metadata": {},
   "outputs": [
    {
     "ename": "DatabaseError",
     "evalue": "Execution failed on sql 'SELECT * FROM TB_meta_info': no such table: TB_meta_info",
     "output_type": "error",
     "traceback": [
      "\u001b[0;31m---------------------------------------------------------------------------\u001b[0m",
      "\u001b[0;31mOperationalError\u001b[0m                          Traceback (most recent call last)",
      "File \u001b[0;32m~/industry/.venv_industry/lib/python3.10/site-packages/pandas/io/sql.py:2664\u001b[0m, in \u001b[0;36mSQLiteDatabase.execute\u001b[0;34m(self, sql, params)\u001b[0m\n\u001b[1;32m   2663\u001b[0m \u001b[38;5;28;01mtry\u001b[39;00m:\n\u001b[0;32m-> 2664\u001b[0m     \u001b[43mcur\u001b[49m\u001b[38;5;241;43m.\u001b[39;49m\u001b[43mexecute\u001b[49m\u001b[43m(\u001b[49m\u001b[43msql\u001b[49m\u001b[43m,\u001b[49m\u001b[43m \u001b[49m\u001b[38;5;241;43m*\u001b[39;49m\u001b[43margs\u001b[49m\u001b[43m)\u001b[49m\n\u001b[1;32m   2665\u001b[0m     \u001b[38;5;28;01mreturn\u001b[39;00m cur\n",
      "\u001b[0;31mOperationalError\u001b[0m: no such table: TB_meta_info",
      "\nThe above exception was the direct cause of the following exception:\n",
      "\u001b[0;31mDatabaseError\u001b[0m                             Traceback (most recent call last)",
      "Cell \u001b[0;32mIn[7], line 1\u001b[0m\n\u001b[0;32m----> 1\u001b[0m df \u001b[38;5;241m=\u001b[39m \u001b[43mpd\u001b[49m\u001b[38;5;241;43m.\u001b[39;49m\u001b[43mread_sql_query\u001b[49m\u001b[43m(\u001b[49m\u001b[38;5;124;43m\"\u001b[39;49m\u001b[38;5;124;43mSELECT * FROM TB_meta_info\u001b[39;49m\u001b[38;5;124;43m\"\u001b[39;49m\u001b[43m,\u001b[49m\u001b[43m \u001b[49m\u001b[43mconn\u001b[49m\u001b[43m)\u001b[49m\n",
      "File \u001b[0;32m~/industry/.venv_industry/lib/python3.10/site-packages/pandas/io/sql.py:528\u001b[0m, in \u001b[0;36mread_sql_query\u001b[0;34m(sql, con, index_col, coerce_float, params, parse_dates, chunksize, dtype, dtype_backend)\u001b[0m\n\u001b[1;32m    525\u001b[0m \u001b[38;5;28;01massert\u001b[39;00m dtype_backend \u001b[38;5;129;01mis\u001b[39;00m \u001b[38;5;129;01mnot\u001b[39;00m lib\u001b[38;5;241m.\u001b[39mno_default\n\u001b[1;32m    527\u001b[0m \u001b[38;5;28;01mwith\u001b[39;00m pandasSQL_builder(con) \u001b[38;5;28;01mas\u001b[39;00m pandas_sql:\n\u001b[0;32m--> 528\u001b[0m     \u001b[38;5;28;01mreturn\u001b[39;00m \u001b[43mpandas_sql\u001b[49m\u001b[38;5;241;43m.\u001b[39;49m\u001b[43mread_query\u001b[49m\u001b[43m(\u001b[49m\n\u001b[1;32m    529\u001b[0m \u001b[43m        \u001b[49m\u001b[43msql\u001b[49m\u001b[43m,\u001b[49m\n\u001b[1;32m    530\u001b[0m \u001b[43m        \u001b[49m\u001b[43mindex_col\u001b[49m\u001b[38;5;241;43m=\u001b[39;49m\u001b[43mindex_col\u001b[49m\u001b[43m,\u001b[49m\n\u001b[1;32m    531\u001b[0m \u001b[43m        \u001b[49m\u001b[43mparams\u001b[49m\u001b[38;5;241;43m=\u001b[39;49m\u001b[43mparams\u001b[49m\u001b[43m,\u001b[49m\n\u001b[1;32m    532\u001b[0m \u001b[43m        \u001b[49m\u001b[43mcoerce_float\u001b[49m\u001b[38;5;241;43m=\u001b[39;49m\u001b[43mcoerce_float\u001b[49m\u001b[43m,\u001b[49m\n\u001b[1;32m    533\u001b[0m \u001b[43m        \u001b[49m\u001b[43mparse_dates\u001b[49m\u001b[38;5;241;43m=\u001b[39;49m\u001b[43mparse_dates\u001b[49m\u001b[43m,\u001b[49m\n\u001b[1;32m    534\u001b[0m \u001b[43m        \u001b[49m\u001b[43mchunksize\u001b[49m\u001b[38;5;241;43m=\u001b[39;49m\u001b[43mchunksize\u001b[49m\u001b[43m,\u001b[49m\n\u001b[1;32m    535\u001b[0m \u001b[43m        \u001b[49m\u001b[43mdtype\u001b[49m\u001b[38;5;241;43m=\u001b[39;49m\u001b[43mdtype\u001b[49m\u001b[43m,\u001b[49m\n\u001b[1;32m    536\u001b[0m \u001b[43m        \u001b[49m\u001b[43mdtype_backend\u001b[49m\u001b[38;5;241;43m=\u001b[39;49m\u001b[43mdtype_backend\u001b[49m\u001b[43m,\u001b[49m\n\u001b[1;32m    537\u001b[0m \u001b[43m    \u001b[49m\u001b[43m)\u001b[49m\n",
      "File \u001b[0;32m~/industry/.venv_industry/lib/python3.10/site-packages/pandas/io/sql.py:2728\u001b[0m, in \u001b[0;36mSQLiteDatabase.read_query\u001b[0;34m(self, sql, index_col, coerce_float, parse_dates, params, chunksize, dtype, dtype_backend)\u001b[0m\n\u001b[1;32m   2717\u001b[0m \u001b[38;5;28;01mdef\u001b[39;00m\u001b[38;5;250m \u001b[39m\u001b[38;5;21mread_query\u001b[39m(\n\u001b[1;32m   2718\u001b[0m     \u001b[38;5;28mself\u001b[39m,\n\u001b[1;32m   2719\u001b[0m     sql,\n\u001b[0;32m   (...)\u001b[0m\n\u001b[1;32m   2726\u001b[0m     dtype_backend: DtypeBackend \u001b[38;5;241m|\u001b[39m Literal[\u001b[38;5;124m\"\u001b[39m\u001b[38;5;124mnumpy\u001b[39m\u001b[38;5;124m\"\u001b[39m] \u001b[38;5;241m=\u001b[39m \u001b[38;5;124m\"\u001b[39m\u001b[38;5;124mnumpy\u001b[39m\u001b[38;5;124m\"\u001b[39m,\n\u001b[1;32m   2727\u001b[0m ) \u001b[38;5;241m-\u001b[39m\u001b[38;5;241m>\u001b[39m DataFrame \u001b[38;5;241m|\u001b[39m Iterator[DataFrame]:\n\u001b[0;32m-> 2728\u001b[0m     cursor \u001b[38;5;241m=\u001b[39m \u001b[38;5;28;43mself\u001b[39;49m\u001b[38;5;241;43m.\u001b[39;49m\u001b[43mexecute\u001b[49m\u001b[43m(\u001b[49m\u001b[43msql\u001b[49m\u001b[43m,\u001b[49m\u001b[43m \u001b[49m\u001b[43mparams\u001b[49m\u001b[43m)\u001b[49m\n\u001b[1;32m   2729\u001b[0m     columns \u001b[38;5;241m=\u001b[39m [col_desc[\u001b[38;5;241m0\u001b[39m] \u001b[38;5;28;01mfor\u001b[39;00m col_desc \u001b[38;5;129;01min\u001b[39;00m cursor\u001b[38;5;241m.\u001b[39mdescription]\n\u001b[1;32m   2731\u001b[0m     \u001b[38;5;28;01mif\u001b[39;00m chunksize \u001b[38;5;129;01mis\u001b[39;00m \u001b[38;5;129;01mnot\u001b[39;00m \u001b[38;5;28;01mNone\u001b[39;00m:\n",
      "File \u001b[0;32m~/industry/.venv_industry/lib/python3.10/site-packages/pandas/io/sql.py:2676\u001b[0m, in \u001b[0;36mSQLiteDatabase.execute\u001b[0;34m(self, sql, params)\u001b[0m\n\u001b[1;32m   2673\u001b[0m     \u001b[38;5;28;01mraise\u001b[39;00m ex \u001b[38;5;28;01mfrom\u001b[39;00m\u001b[38;5;250m \u001b[39m\u001b[38;5;21;01minner_exc\u001b[39;00m\n\u001b[1;32m   2675\u001b[0m ex \u001b[38;5;241m=\u001b[39m DatabaseError(\u001b[38;5;124mf\u001b[39m\u001b[38;5;124m\"\u001b[39m\u001b[38;5;124mExecution failed on sql \u001b[39m\u001b[38;5;124m'\u001b[39m\u001b[38;5;132;01m{\u001b[39;00msql\u001b[38;5;132;01m}\u001b[39;00m\u001b[38;5;124m'\u001b[39m\u001b[38;5;124m: \u001b[39m\u001b[38;5;132;01m{\u001b[39;00mexc\u001b[38;5;132;01m}\u001b[39;00m\u001b[38;5;124m\"\u001b[39m)\n\u001b[0;32m-> 2676\u001b[0m \u001b[38;5;28;01mraise\u001b[39;00m ex \u001b[38;5;28;01mfrom\u001b[39;00m\u001b[38;5;250m \u001b[39m\u001b[38;5;21;01mexc\u001b[39;00m\n",
      "\u001b[0;31mDatabaseError\u001b[0m: Execution failed on sql 'SELECT * FROM TB_meta_info': no such table: TB_meta_info"
     ]
    }
   ],
   "source": [
    "df = pd.read_sql_query(\"SELECT * FROM TB_meta_info\", conn)"
   ]
  },
  {
   "cell_type": "code",
   "execution_count": 3,
   "metadata": {},
   "outputs": [],
   "source": [
    "df = pd.read_sql_query(\"SELECT * FROM TB_meta_info\", conn)"
   ]
  },
  {
   "cell_type": "code",
   "execution_count": 4,
   "metadata": {},
   "outputs": [
    {
     "data": {
      "text/html": [
       "<div>\n",
       "<style scoped>\n",
       "    .dataframe tbody tr th:only-of-type {\n",
       "        vertical-align: middle;\n",
       "    }\n",
       "\n",
       "    .dataframe tbody tr th {\n",
       "        vertical-align: top;\n",
       "    }\n",
       "\n",
       "    .dataframe thead th {\n",
       "        text-align: right;\n",
       "    }\n",
       "</style>\n",
       "<table border=\"1\" class=\"dataframe\">\n",
       "  <thead>\n",
       "    <tr style=\"text-align: right;\">\n",
       "      <th></th>\n",
       "      <th>full_path</th>\n",
       "      <th>file_id</th>\n",
       "      <th>folder_name</th>\n",
       "      <th>file_size</th>\n",
       "      <th>file_size_readable</th>\n",
       "      <th>file_type</th>\n",
       "      <th>data_category</th>\n",
       "    </tr>\n",
       "  </thead>\n",
       "  <tbody>\n",
       "    <tr>\n",
       "      <th>0</th>\n",
       "      <td>/mnt/external_drive/industry_data/cctv_data/da...</td>\n",
       "      <td>62041c6c-60e9-4978-98ab-0f39eadc971e</td>\n",
       "      <td>label_data</td>\n",
       "      <td>16281009</td>\n",
       "      <td>15.5 MB</td>\n",
       "      <td>.zip</td>\n",
       "      <td>cctv_data</td>\n",
       "    </tr>\n",
       "    <tr>\n",
       "      <th>1</th>\n",
       "      <td>/mnt/external_drive/industry_data/cctv_data/da...</td>\n",
       "      <td>f9322920-09c7-4836-9574-c0bd1188caeb</td>\n",
       "      <td>label_data</td>\n",
       "      <td>20319814</td>\n",
       "      <td>19.4 MB</td>\n",
       "      <td>.zip</td>\n",
       "      <td>cctv_data</td>\n",
       "    </tr>\n",
       "    <tr>\n",
       "      <th>2</th>\n",
       "      <td>/mnt/external_drive/industry_data/cctv_data/da...</td>\n",
       "      <td>df865ed7-b112-401e-b0fa-7f008f34d8ba</td>\n",
       "      <td>label_data</td>\n",
       "      <td>18182020</td>\n",
       "      <td>17.3 MB</td>\n",
       "      <td>.zip</td>\n",
       "      <td>cctv_data</td>\n",
       "    </tr>\n",
       "    <tr>\n",
       "      <th>3</th>\n",
       "      <td>/mnt/external_drive/industry_data/cctv_data/da...</td>\n",
       "      <td>eec76a80-cd4b-4625-973f-9f41a45f2f7f</td>\n",
       "      <td>label_data</td>\n",
       "      <td>16194919</td>\n",
       "      <td>15.4 MB</td>\n",
       "      <td>.zip</td>\n",
       "      <td>cctv_data</td>\n",
       "    </tr>\n",
       "    <tr>\n",
       "      <th>4</th>\n",
       "      <td>/mnt/external_drive/industry_data/cctv_data/da...</td>\n",
       "      <td>46184155-2397-44b2-92d6-8ab81bfa982c</td>\n",
       "      <td>label_data</td>\n",
       "      <td>14802585</td>\n",
       "      <td>14.1 MB</td>\n",
       "      <td>.zip</td>\n",
       "      <td>cctv_data</td>\n",
       "    </tr>\n",
       "    <tr>\n",
       "      <th>...</th>\n",
       "      <td>...</td>\n",
       "      <td>...</td>\n",
       "      <td>...</td>\n",
       "      <td>...</td>\n",
       "      <td>...</td>\n",
       "      <td>...</td>\n",
       "      <td>...</td>\n",
       "    </tr>\n",
       "    <tr>\n",
       "      <th>2745334</th>\n",
       "      <td>/mnt/external_drive/industry_data/sand_data/da...</td>\n",
       "      <td>4cc7f483-8073-41e1-89bd-4c5b2071434f</td>\n",
       "      <td>VS_2.모래위험광물분류</td>\n",
       "      <td>5862592</td>\n",
       "      <td>5.6 MB</td>\n",
       "      <td>.png</td>\n",
       "      <td>sand_data</td>\n",
       "    </tr>\n",
       "    <tr>\n",
       "      <th>2745335</th>\n",
       "      <td>/mnt/external_drive/industry_data/sand_data/da...</td>\n",
       "      <td>c45014fb-9ceb-44dc-baa6-436b6028b418</td>\n",
       "      <td>VS_2.모래위험광물분류</td>\n",
       "      <td>5373272</td>\n",
       "      <td>5.1 MB</td>\n",
       "      <td>.png</td>\n",
       "      <td>sand_data</td>\n",
       "    </tr>\n",
       "    <tr>\n",
       "      <th>2745336</th>\n",
       "      <td>/mnt/external_drive/industry_data/sand_data/da...</td>\n",
       "      <td>f38dfc8c-3f9d-4d33-afe9-b855cbeb8a3b</td>\n",
       "      <td>VS_2.모래위험광물분류</td>\n",
       "      <td>5439086</td>\n",
       "      <td>5.2 MB</td>\n",
       "      <td>.png</td>\n",
       "      <td>sand_data</td>\n",
       "    </tr>\n",
       "    <tr>\n",
       "      <th>2745337</th>\n",
       "      <td>/mnt/external_drive/industry_data/sand_data/da...</td>\n",
       "      <td>737066f7-85f8-4f3b-94ed-634b3a66ed87</td>\n",
       "      <td>02.라벨링데이터</td>\n",
       "      <td>28313802</td>\n",
       "      <td>27.0 MB</td>\n",
       "      <td>.zip</td>\n",
       "      <td>sand_data</td>\n",
       "    </tr>\n",
       "    <tr>\n",
       "      <th>2745338</th>\n",
       "      <td>/mnt/external_drive/industry_data/sand_data/da...</td>\n",
       "      <td>0f0ee93d-726b-4788-8537-f52888c9aabf</td>\n",
       "      <td>02.라벨링데이터</td>\n",
       "      <td>149955891</td>\n",
       "      <td>143.0 MB</td>\n",
       "      <td>.zip</td>\n",
       "      <td>sand_data</td>\n",
       "    </tr>\n",
       "  </tbody>\n",
       "</table>\n",
       "<p>2745339 rows × 7 columns</p>\n",
       "</div>"
      ],
      "text/plain": [
       "                                                 full_path  \\\n",
       "0        /mnt/external_drive/industry_data/cctv_data/da...   \n",
       "1        /mnt/external_drive/industry_data/cctv_data/da...   \n",
       "2        /mnt/external_drive/industry_data/cctv_data/da...   \n",
       "3        /mnt/external_drive/industry_data/cctv_data/da...   \n",
       "4        /mnt/external_drive/industry_data/cctv_data/da...   \n",
       "...                                                    ...   \n",
       "2745334  /mnt/external_drive/industry_data/sand_data/da...   \n",
       "2745335  /mnt/external_drive/industry_data/sand_data/da...   \n",
       "2745336  /mnt/external_drive/industry_data/sand_data/da...   \n",
       "2745337  /mnt/external_drive/industry_data/sand_data/da...   \n",
       "2745338  /mnt/external_drive/industry_data/sand_data/da...   \n",
       "\n",
       "                                      file_id    folder_name  file_size  \\\n",
       "0        62041c6c-60e9-4978-98ab-0f39eadc971e     label_data   16281009   \n",
       "1        f9322920-09c7-4836-9574-c0bd1188caeb     label_data   20319814   \n",
       "2        df865ed7-b112-401e-b0fa-7f008f34d8ba     label_data   18182020   \n",
       "3        eec76a80-cd4b-4625-973f-9f41a45f2f7f     label_data   16194919   \n",
       "4        46184155-2397-44b2-92d6-8ab81bfa982c     label_data   14802585   \n",
       "...                                       ...            ...        ...   \n",
       "2745334  4cc7f483-8073-41e1-89bd-4c5b2071434f  VS_2.모래위험광물분류    5862592   \n",
       "2745335  c45014fb-9ceb-44dc-baa6-436b6028b418  VS_2.모래위험광물분류    5373272   \n",
       "2745336  f38dfc8c-3f9d-4d33-afe9-b855cbeb8a3b  VS_2.모래위험광물분류    5439086   \n",
       "2745337  737066f7-85f8-4f3b-94ed-634b3a66ed87      02.라벨링데이터   28313802   \n",
       "2745338  0f0ee93d-726b-4788-8537-f52888c9aabf      02.라벨링데이터  149955891   \n",
       "\n",
       "        file_size_readable file_type data_category  \n",
       "0                  15.5 MB      .zip     cctv_data  \n",
       "1                  19.4 MB      .zip     cctv_data  \n",
       "2                  17.3 MB      .zip     cctv_data  \n",
       "3                  15.4 MB      .zip     cctv_data  \n",
       "4                  14.1 MB      .zip     cctv_data  \n",
       "...                    ...       ...           ...  \n",
       "2745334             5.6 MB      .png     sand_data  \n",
       "2745335             5.1 MB      .png     sand_data  \n",
       "2745336             5.2 MB      .png     sand_data  \n",
       "2745337            27.0 MB      .zip     sand_data  \n",
       "2745338           143.0 MB      .zip     sand_data  \n",
       "\n",
       "[2745339 rows x 7 columns]"
      ]
     },
     "execution_count": 4,
     "metadata": {},
     "output_type": "execute_result"
    }
   ],
   "source": [
    "df"
   ]
  },
  {
   "cell_type": "code",
   "execution_count": 5,
   "metadata": {},
   "outputs": [],
   "source": [
    "conn.close()"
   ]
  },
  {
   "cell_type": "code",
   "execution_count": null,
   "metadata": {},
   "outputs": [],
   "source": []
  },
  {
   "cell_type": "code",
   "execution_count": null,
   "metadata": {},
   "outputs": [],
   "source": []
  }
 ],
 "metadata": {
  "kernelspec": {
   "display_name": ".venv_industry",
   "language": "python",
   "name": "python3"
  },
  "language_info": {
   "codemirror_mode": {
    "name": "ipython",
    "version": 3
   },
   "file_extension": ".py",
   "mimetype": "text/x-python",
   "name": "python",
   "nbconvert_exporter": "python",
   "pygments_lexer": "ipython3",
   "version": "3.10.12"
  }
 },
 "nbformat": 4,
 "nbformat_minor": 2
}
